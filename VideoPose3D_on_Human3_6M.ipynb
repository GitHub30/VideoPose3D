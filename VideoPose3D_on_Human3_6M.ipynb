{
  "nbformat": 4,
  "nbformat_minor": 0,
  "metadata": {
    "colab": {
      "name": "VideoPose3D on Human3.6M.ipynb",
      "version": "0.3.2",
      "provenance": [],
      "include_colab_link": true
    },
    "kernelspec": {
      "name": "python3",
      "display_name": "Python 3"
    },
    "accelerator": "GPU"
  },
  "cells": [
    {
      "cell_type": "markdown",
      "metadata": {
        "id": "view-in-github",
        "colab_type": "text"
      },
      "source": [
        "<a href=\"https://colab.research.google.com/github/GitHub30/VideoPose3D/blob/google-colaboratory/VideoPose3D_on_Human3_6M.ipynb\" target=\"_parent\"><img src=\"https://colab.research.google.com/assets/colab-badge.svg\" alt=\"Open In Colab\"/></a>"
      ]
    },
    {
      "metadata": {
        "id": "2J4jb9_w4LJl",
        "colab_type": "text"
      },
      "cell_type": "markdown",
      "source": [
        "# Install pytorch"
      ]
    },
    {
      "metadata": {
        "id": "CUPBBeSH327C",
        "colab_type": "code",
        "colab": {
          "base_uri": "https://localhost:8080/",
          "height": 292
        },
        "outputId": "f51cfe73-a8d3-4d3d-821d-612d0bbe57bc"
      },
      "cell_type": "code",
      "source": [
        "!pip install -q http://download.pytorch.org/whl/cu91/torch-0.4.0-cp36-cp36m-linux_x86_64.whl && pip install torchvision"
      ],
      "execution_count": 1,
      "outputs": [
        {
          "output_type": "stream",
          "text": [
            "tcmalloc: large alloc 1073750016 bytes == 0x5bba4000 @  0x7f78052fa2a4 0x591a07 0x5b5d56 0x502e9a 0x506859 0x502209 0x502f3d 0x506859 0x504c28 0x502540 0x502f3d 0x506859 0x504c28 0x502540 0x502f3d 0x506859 0x504c28 0x502540 0x502f3d 0x507641 0x502209 0x502f3d 0x506859 0x504c28 0x502540 0x502f3d 0x507641 0x504c28 0x502540 0x502f3d 0x507641\n",
            "Collecting torchvision\n",
            "\u001b[?25l  Downloading https://files.pythonhosted.org/packages/ca/0d/f00b2885711e08bd71242ebe7b96561e6f6d01fdb4b9dcf4d37e2e13c5e1/torchvision-0.2.1-py2.py3-none-any.whl (54kB)\n",
            "\u001b[K    100% |████████████████████████████████| 61kB 2.7MB/s \n",
            "\u001b[?25hRequirement already satisfied: six in /usr/local/lib/python3.6/dist-packages (from torchvision) (1.11.0)\n",
            "Requirement already satisfied: numpy in /usr/local/lib/python3.6/dist-packages (from torchvision) (1.14.6)\n",
            "Requirement already satisfied: torch in /usr/local/lib/python3.6/dist-packages (from torchvision) (0.4.0)\n",
            "Collecting pillow>=4.1.1 (from torchvision)\n",
            "\u001b[?25l  Downloading https://files.pythonhosted.org/packages/62/94/5430ebaa83f91cc7a9f687ff5238e26164a779cca2ef9903232268b0a318/Pillow-5.3.0-cp36-cp36m-manylinux1_x86_64.whl (2.0MB)\n",
            "\u001b[K    100% |████████████████████████████████| 2.0MB 10.9MB/s \n",
            "\u001b[?25hInstalling collected packages: pillow, torchvision\n",
            "  Found existing installation: Pillow 4.0.0\n",
            "    Uninstalling Pillow-4.0.0:\n",
            "      Successfully uninstalled Pillow-4.0.0\n",
            "Successfully installed pillow-5.3.0 torchvision-0.2.1\n"
          ],
          "name": "stdout"
        }
      ]
    },
    {
      "metadata": {
        "id": "j7-tQGfP4VnG",
        "colab_type": "text"
      },
      "cell_type": "markdown",
      "source": [
        "# Clone repository"
      ]
    },
    {
      "metadata": {
        "id": "-_xNhYhW3_2o",
        "colab_type": "code",
        "colab": {
          "base_uri": "https://localhost:8080/",
          "height": 119
        },
        "outputId": "9ea97b61-97d6-43b4-dc39-9351f23370a1"
      },
      "cell_type": "code",
      "source": [
        "!git clone https://github.com/facebookresearch/VideoPose3D.git"
      ],
      "execution_count": 2,
      "outputs": [
        {
          "output_type": "stream",
          "text": [
            "Cloning into 'VideoPose3D'...\n",
            "remote: Enumerating objects: 40, done.\u001b[K\n",
            "remote: Counting objects: 100% (40/40), done.\u001b[K\n",
            "remote: Compressing objects: 100% (39/39), done.\u001b[K\n",
            "remote: Total 40 (delta 1), reused 40 (delta 1), pack-reused 0\u001b[K\n",
            "Unpacking objects: 100% (40/40), done.\n"
          ],
          "name": "stdout"
        }
      ]
    },
    {
      "metadata": {
        "id": "VWuacHTK44BF",
        "colab_type": "text"
      },
      "cell_type": "markdown",
      "source": [
        "# Prepare data"
      ]
    },
    {
      "metadata": {
        "id": "5xV3JB2v4B3W",
        "colab_type": "code",
        "colab": {
          "base_uri": "https://localhost:8080/",
          "height": 598
        },
        "outputId": "6e1ae845-f47c-4871-eed2-708f2eff8028"
      },
      "cell_type": "code",
      "source": [
        "!cd VideoPose3D/data \\\n",
        "  && wget https://www.dropbox.com/s/e35qv3n6zlkouki/h36m.zip \\\n",
        "  && python prepare_data_h36m.py --from-archive h36m.zip"
      ],
      "execution_count": 3,
      "outputs": [
        {
          "output_type": "stream",
          "text": [
            "--2018-11-28 19:58:08--  https://www.dropbox.com/s/e35qv3n6zlkouki/h36m.zip\n",
            "Resolving www.dropbox.com (www.dropbox.com)... 162.125.3.1, 2620:100:601b:1::a27d:801\n",
            "Connecting to www.dropbox.com (www.dropbox.com)|162.125.3.1|:443... connected.\n",
            "HTTP request sent, awaiting response... 301 Moved Permanently\n",
            "Location: /s/raw/e35qv3n6zlkouki/h36m.zip [following]\n",
            "--2018-11-28 19:58:08--  https://www.dropbox.com/s/raw/e35qv3n6zlkouki/h36m.zip\n",
            "Reusing existing connection to www.dropbox.com:443.\n",
            "HTTP request sent, awaiting response... 302 Found\n",
            "Location: https://uc3e059d1d3c7bd94fe0306e5145.dl.dropboxusercontent.com/cd/0/inline/AWfFGbV_yDBg7-0sSuogrk9yQdW39Zd5v_BWOg-rK_3FHwggEOiVBla1XIPEqTtdxhy52rW0D8e8qq23tJ_LxqLSAy-d5QVsBe18RPrJjTylmL5h28g2oonwyQF73j7KBvEqN98pTov2TxEYjnw0blOI4sD8f_OFEyxauiN2WqrewWJhUdpiq_P-_JC4vX6mHHE/file [following]\n",
            "--2018-11-28 19:58:08--  https://uc3e059d1d3c7bd94fe0306e5145.dl.dropboxusercontent.com/cd/0/inline/AWfFGbV_yDBg7-0sSuogrk9yQdW39Zd5v_BWOg-rK_3FHwggEOiVBla1XIPEqTtdxhy52rW0D8e8qq23tJ_LxqLSAy-d5QVsBe18RPrJjTylmL5h28g2oonwyQF73j7KBvEqN98pTov2TxEYjnw0blOI4sD8f_OFEyxauiN2WqrewWJhUdpiq_P-_JC4vX6mHHE/file\n",
            "Resolving uc3e059d1d3c7bd94fe0306e5145.dl.dropboxusercontent.com (uc3e059d1d3c7bd94fe0306e5145.dl.dropboxusercontent.com)... 162.125.8.6, 2620:100:601b:6::a27d:806\n",
            "Connecting to uc3e059d1d3c7bd94fe0306e5145.dl.dropboxusercontent.com (uc3e059d1d3c7bd94fe0306e5145.dl.dropboxusercontent.com)|162.125.8.6|:443... connected.\n",
            "HTTP request sent, awaiting response... 302 FOUND\n",
            "Location: /cd/0/inline2/AWeCmbGwXcJ2OGv9b5FnirPE5GFpUz3bTGe9hlBMANqdVX_P88L7aJ3TFW-d28DQBaer4Uq8OJBVI1_1noQ39cKIhbUYrXZm8lONchZlL1PP445we5wGJEtt5JuL-zVis7WT32D3F8Xec4yUqKx05tRNH4f9Do-b5wLWJOeuyAjZJWGiAbKPTTrJ84crKPoYe6fEb0_ewhzlcbkMZnPrY4gbGaqvLs5FT9saDPLwxPQEhzJM6JpSKzuy15TJhFRN1LUn2kixALDraDIDuMIgTfhNgI7iKwY0cn-QyHuMJq3aYg6Nfslnvm-mhBz9FVmTOCu3v9Lgx5ppWC1PxENqsC0au7xucH4hZIRIofOgrxIrFpabZYNrKf20lha2IL9lUAe16XH21ctTrw5zOR5Zy24Bj3O9GW5T98Lauox64_KKQO6IUo350pEUKvevdrSW7jw/file [following]\n",
            "--2018-11-28 19:58:09--  https://uc3e059d1d3c7bd94fe0306e5145.dl.dropboxusercontent.com/cd/0/inline2/AWeCmbGwXcJ2OGv9b5FnirPE5GFpUz3bTGe9hlBMANqdVX_P88L7aJ3TFW-d28DQBaer4Uq8OJBVI1_1noQ39cKIhbUYrXZm8lONchZlL1PP445we5wGJEtt5JuL-zVis7WT32D3F8Xec4yUqKx05tRNH4f9Do-b5wLWJOeuyAjZJWGiAbKPTTrJ84crKPoYe6fEb0_ewhzlcbkMZnPrY4gbGaqvLs5FT9saDPLwxPQEhzJM6JpSKzuy15TJhFRN1LUn2kixALDraDIDuMIgTfhNgI7iKwY0cn-QyHuMJq3aYg6Nfslnvm-mhBz9FVmTOCu3v9Lgx5ppWC1PxENqsC0au7xucH4hZIRIofOgrxIrFpabZYNrKf20lha2IL9lUAe16XH21ctTrw5zOR5Zy24Bj3O9GW5T98Lauox64_KKQO6IUo350pEUKvevdrSW7jw/file\n",
            "Reusing existing connection to uc3e059d1d3c7bd94fe0306e5145.dl.dropboxusercontent.com:443.\n",
            "HTTP request sent, awaiting response... 200 OK\n",
            "Length: 260029545 (248M) [application/zip]\n",
            "Saving to: ‘h36m.zip’\n",
            "\n",
            "h36m.zip            100%[===================>] 247.98M  29.2MB/s    in 8.5s    \n",
            "\n",
            "2018-11-28 19:58:18 (29.2 MB/s) - ‘h36m.zip’ saved [260029545/260029545]\n",
            "\n",
            "Extracting Human3.6M dataset from h36m.zip\n",
            "Converting...\n",
            "Saving...\n",
            "Cleaning up...\n",
            "Done.\n",
            "\n",
            "Computing ground-truth 2D poses...\n",
            "Saving...\n",
            "Done.\n"
          ],
          "name": "stdout"
        }
      ]
    },
    {
      "metadata": {
        "id": "7_Nr8N6X476U",
        "colab_type": "text"
      },
      "cell_type": "markdown",
      "source": [
        "# Download Models"
      ]
    },
    {
      "metadata": {
        "id": "SaWTjPm04Ey-",
        "colab_type": "code",
        "colab": {
          "base_uri": "https://localhost:8080/",
          "height": 425
        },
        "outputId": "ed2c7b60-382f-4e7d-a720-afdef8940e4a"
      },
      "cell_type": "code",
      "source": [
        "!cd VideoPose3D/data \\\n",
        "  && wget https://s3.amazonaws.com/video-pose-3d/data_2d_h36m_cpn_ft_h36m_dbb.npz https://s3.amazonaws.com/video-pose-3d/data_2d_h36m_detectron_ft_h36m.npz"
      ],
      "execution_count": 4,
      "outputs": [
        {
          "output_type": "stream",
          "text": [
            "--2018-11-28 20:00:08--  https://s3.amazonaws.com/video-pose-3d/data_2d_h36m_cpn_ft_h36m_dbb.npz\n",
            "Resolving s3.amazonaws.com (s3.amazonaws.com)... 52.216.82.147\n",
            "Connecting to s3.amazonaws.com (s3.amazonaws.com)|52.216.82.147|:443... connected.\n",
            "HTTP request sent, awaiting response... 200 OK\n",
            "Length: 272757484 (260M) [application/x-www-form-urlencoded]\n",
            "Saving to: ‘data_2d_h36m_cpn_ft_h36m_dbb.npz’\n",
            "\n",
            "data_2d_h36m_cpn_ft 100%[===================>] 260.12M  71.1MB/s    in 3.8s    \n",
            "\n",
            "2018-11-28 20:00:12 (67.8 MB/s) - ‘data_2d_h36m_cpn_ft_h36m_dbb.npz’ saved [272757484/272757484]\n",
            "\n",
            "--2018-11-28 20:00:12--  https://s3.amazonaws.com/video-pose-3d/data_2d_h36m_detectron_ft_h36m.npz\n",
            "Reusing existing connection to s3.amazonaws.com:443.\n",
            "HTTP request sent, awaiting response... 200 OK\n",
            "Length: 408224197 (389M) [application/x-www-form-urlencoded]\n",
            "Saving to: ‘data_2d_h36m_detectron_ft_h36m.npz’\n",
            "\n",
            "data_2d_h36m_detect 100%[===================>] 389.31M  77.9MB/s    in 5.1s    \n",
            "\n",
            "2018-11-28 20:00:17 (76.7 MB/s) - ‘data_2d_h36m_detectron_ft_h36m.npz’ saved [408224197/408224197]\n",
            "\n",
            "FINISHED --2018-11-28 20:00:17--\n",
            "Total wall clock time: 9.3s\n",
            "Downloaded: 2 files, 649M in 8.9s (72.9 MB/s)\n"
          ],
          "name": "stdout"
        }
      ]
    },
    {
      "metadata": {
        "id": "Xl-ai5i04HEm",
        "colab_type": "code",
        "colab": {
          "base_uri": "https://localhost:8080/",
          "height": 425
        },
        "outputId": "cf771f7f-0979-4fb2-a8fc-6d6fc01aa5ea"
      },
      "cell_type": "code",
      "source": [
        "!cd VideoPose3D \\\n",
        "  && mkdir checkpoint \\\n",
        "  && cd checkpoint \\\n",
        "  && wget https://s3.amazonaws.com/video-pose-3d/pretrained_h36m_cpn.bin https://s3.amazonaws.com/video-pose-3d/pretrained_humaneva15_detectron.bin"
      ],
      "execution_count": 5,
      "outputs": [
        {
          "output_type": "stream",
          "text": [
            "--2018-11-28 20:00:18--  https://s3.amazonaws.com/video-pose-3d/pretrained_h36m_cpn.bin\n",
            "Resolving s3.amazonaws.com (s3.amazonaws.com)... 52.216.171.45\n",
            "Connecting to s3.amazonaws.com (s3.amazonaws.com)|52.216.171.45|:443... connected.\n",
            "HTTP request sent, awaiting response... 200 OK\n",
            "Length: 67889963 (65M) [application/octet-stream]\n",
            "Saving to: ‘pretrained_h36m_cpn.bin’\n",
            "\n",
            "pretrained_h36m_cpn 100%[===================>]  64.74M  20.1MB/s    in 3.5s    \n",
            "\n",
            "2018-11-28 20:00:22 (18.5 MB/s) - ‘pretrained_h36m_cpn.bin’ saved [67889963/67889963]\n",
            "\n",
            "--2018-11-28 20:00:22--  https://s3.amazonaws.com/video-pose-3d/pretrained_humaneva15_detectron.bin\n",
            "Reusing existing connection to s3.amazonaws.com:443.\n",
            "HTTP request sent, awaiting response... 200 OK\n",
            "Length: 34242417 (33M) [application/octet-stream]\n",
            "Saving to: ‘pretrained_humaneva15_detectron.bin’\n",
            "\n",
            "pretrained_humaneva 100%[===================>]  32.66M  7.82MB/s    in 4.2s    \n",
            "\n",
            "2018-11-28 20:00:27 (7.82 MB/s) - ‘pretrained_humaneva15_detectron.bin’ saved [34242417/34242417]\n",
            "\n",
            "FINISHED --2018-11-28 20:00:27--\n",
            "Total wall clock time: 8.5s\n",
            "Downloaded: 2 files, 97M in 7.7s (12.7 MB/s)\n"
          ],
          "name": "stdout"
        }
      ]
    },
    {
      "metadata": {
        "id": "zyUKr0ka5Ots",
        "colab_type": "text"
      },
      "cell_type": "markdown",
      "source": [
        "# Test it!"
      ]
    },
    {
      "metadata": {
        "id": "iyZKTf5Y4JM2",
        "colab_type": "code",
        "colab": {
          "base_uri": "https://localhost:8080/",
          "height": 2060
        },
        "outputId": "264ca1c5-db63-4494-dac8-7777d6102786"
      },
      "cell_type": "code",
      "source": [
        "!cd VideoPose3D \\\n",
        "  && python run.py -k cpn_ft_h36m_dbb -arc 3,3,3,3,3 -c checkpoint --evaluate pretrained_h36m_cpn.bin"
      ],
      "execution_count": 6,
      "outputs": [
        {
          "output_type": "stream",
          "text": [
            "Namespace(actions='*', architecture='3,3,3,3,3', batch_size=1024, bone_length_term=True, by_subject=False, causal=False, channels=1024, checkpoint='checkpoint', checkpoint_frequency=10, data_augmentation=True, dataset='h36m', dense=False, disable_optimizations=False, downsample=1, dropout=0.25, epochs=60, evaluate='pretrained_h36m_cpn.bin', export_training_curves=False, keypoints='cpn_ft_h36m_dbb', learning_rate=0.001, linear_projection=False, lr_decay=0.95, no_eval=False, no_proj=False, render=False, resume='', stride=1, subjects_test='S9,S11', subjects_train='S1,S5,S6,S7,S8', subjects_unlabeled='', subset=1, test_time_augmentation=True, viz_action=None, viz_bitrate=3000, viz_camera=0, viz_downsample=1, viz_limit=-1, viz_no_ground_truth=False, viz_output=None, viz_size=5, viz_skip=0, viz_subject=None, viz_video=None, warmup=1)\n",
            "Loading dataset...\n",
            "Preparing data...\n",
            "Loading 2D detections...\n",
            "INFO: Receptive field: 243 frames\n",
            "INFO: Trainable parameter count: 16952371\n",
            "Loading checkpoint checkpoint/pretrained_h36m_cpn.bin\n",
            "This model was trained for 80 epochs\n",
            "INFO: Testing on 543344 frames\n",
            "Evaluating...\n",
            "----Photo----\n",
            "Test time augmentation: True\n",
            "Protocol #1 Error (MPJPE): 55.124756996488095 mm\n",
            "Protocol #2 Error (P-MPJPE): 42.20605430169105 mm\n",
            "Protocol #3 Error (N-MPJPE): 53.0314160890796 mm\n",
            "Velocity Error (MPJVE): 2.7116056623307054 mm\n",
            "----------\n",
            "----Waiting----\n",
            "Test time augmentation: True\n",
            "Protocol #1 Error (MPJPE): 43.985539522890164 mm\n",
            "Protocol #2 Error (P-MPJPE): 33.79774090125385 mm\n",
            "Protocol #3 Error (N-MPJPE): 42.48611287550539 mm\n",
            "Velocity Error (MPJVE): 2.4182380409591517 mm\n",
            "----------\n",
            "----WalkDog----\n",
            "Test time augmentation: True\n",
            "Protocol #1 Error (MPJPE): 48.95927315159849 mm\n",
            "Protocol #2 Error (P-MPJPE): 37.75361609021849 mm\n",
            "Protocol #3 Error (N-MPJPE): 46.43276511570949 mm\n",
            "Velocity Error (MPJVE): 3.721293779136771 mm\n",
            "----------\n",
            "----Walking----\n",
            "Test time augmentation: True\n",
            "Protocol #1 Error (MPJPE): 32.78737297821881 mm\n",
            "Protocol #2 Error (P-MPJPE): 25.6368278597312 mm\n",
            "Protocol #3 Error (N-MPJPE): 31.419325498810586 mm\n",
            "Velocity Error (MPJVE): 3.1199503177608263 mm\n",
            "----------\n",
            "----SittingDown----\n",
            "Test time augmentation: True\n",
            "Protocol #1 Error (MPJPE): 65.79779999350986 mm\n",
            "Protocol #2 Error (P-MPJPE): 52.53097046264586 mm\n",
            "Protocol #3 Error (N-MPJPE): 63.29354364883283 mm\n",
            "Velocity Error (MPJVE): 2.8698928569443076 mm\n",
            "----------\n",
            "----Phoning----\n",
            "Test time augmentation: True\n",
            "Protocol #1 Error (MPJPE): 48.094191004176366 mm\n",
            "Protocol #2 Error (P-MPJPE): 36.394506204044944 mm\n",
            "Protocol #3 Error (N-MPJPE): 46.02659199463349 mm\n",
            "Velocity Error (MPJVE): 2.2728512592613965 mm\n",
            "----------\n",
            "----Sitting----\n",
            "Test time augmentation: True\n",
            "Protocol #1 Error (MPJPE): 57.2924829196462 mm\n",
            "Protocol #2 Error (P-MPJPE): 45.03277549483138 mm\n",
            "Protocol #3 Error (N-MPJPE): 55.24516327221349 mm\n",
            "Velocity Error (MPJVE): 2.0748275472344915 mm\n",
            "----------\n",
            "----WalkTogether----\n",
            "Test time augmentation: True\n",
            "Protocol #1 Error (MPJPE): 33.87752824281128 mm\n",
            "Protocol #2 Error (P-MPJPE): 27.280319894925544 mm\n",
            "Protocol #3 Error (N-MPJPE): 32.16627160083811 mm\n",
            "Velocity Error (MPJVE): 2.7805868835735055 mm\n",
            "----------\n",
            "----Purchases----\n",
            "Test time augmentation: True\n",
            "Protocol #1 Error (MPJPE): 44.27883903395707 mm\n",
            "Protocol #2 Error (P-MPJPE): 33.596641473314484 mm\n",
            "Protocol #3 Error (N-MPJPE): 42.51916250038187 mm\n",
            "Velocity Error (MPJVE): 3.0979487816637987 mm\n",
            "----------\n",
            "----Eating----\n",
            "Test time augmentation: True\n",
            "Protocol #1 Error (MPJPE): 43.30023642499737 mm\n",
            "Protocol #2 Error (P-MPJPE): 34.433984419015744 mm\n",
            "Protocol #3 Error (N-MPJPE): 42.12768561626313 mm\n",
            "Velocity Error (MPJVE): 2.2443487768373163 mm\n",
            "----------\n",
            "----Directions----\n",
            "Test time augmentation: True\n",
            "Protocol #1 Error (MPJPE): 45.15618005330771 mm\n",
            "Protocol #2 Error (P-MPJPE): 34.119459678209886 mm\n",
            "Protocol #3 Error (N-MPJPE): 42.62937939512544 mm\n",
            "Velocity Error (MPJVE): 2.9753524038954198 mm\n",
            "----------\n",
            "----Smoking----\n",
            "Test time augmentation: True\n",
            "Protocol #1 Error (MPJPE): 47.08722077832077 mm\n",
            "Protocol #2 Error (P-MPJPE): 37.37457366759485 mm\n",
            "Protocol #3 Error (N-MPJPE): 45.27725503437408 mm\n",
            "Velocity Error (MPJVE): 2.30618021153905 mm\n",
            "----------\n",
            "----Greeting----\n",
            "Test time augmentation: True\n",
            "Protocol #1 Error (MPJPE): 45.61267739397445 mm\n",
            "Protocol #2 Error (P-MPJPE): 37.22414082251008 mm\n",
            "Protocol #3 Error (N-MPJPE): 44.401032820970286 mm\n",
            "Velocity Error (MPJVE): 3.4328655763224716 mm\n",
            "----------\n",
            "----Discussion----\n",
            "Test time augmentation: True\n",
            "Protocol #1 Error (MPJPE): 46.67484993912383 mm\n",
            "Protocol #2 Error (P-MPJPE): 36.12383940293026 mm\n",
            "Protocol #3 Error (N-MPJPE): 45.076348071913365 mm\n",
            "Velocity Error (MPJVE): 3.105894703584931 mm\n",
            "----------\n",
            "----Posing----\n",
            "Test time augmentation: True\n",
            "Protocol #1 Error (MPJPE): 44.620387924458186 mm\n",
            "Protocol #2 Error (P-MPJPE): 34.422650606619996 mm\n",
            "Protocol #3 Error (N-MPJPE): 43.34614069509672 mm\n",
            "Velocity Error (MPJVE): 2.6805063467397683 mm\n",
            "----------\n",
            "Protocol #1   (MPJPE) action-wise average: 46.8 mm\n",
            "Protocol #2 (P-MPJPE) action-wise average: 36.5 mm\n",
            "Protocol #3 (N-MPJPE) action-wise average: 45.0 mm\n",
            "Velocity      (MPJVE) action-wise average: 2.79 mm\n"
          ],
          "name": "stdout"
        }
      ]
    }
  ]
}